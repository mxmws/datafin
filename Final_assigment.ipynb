{
 "cells": [
  {
   "cell_type": "code",
   "execution_count": null,
   "id": "2a500609",
   "metadata": {},
   "outputs": [],
   "source": [
    "import pandas as pd\n",
    "from pandas_datareader import data as pdr\n",
    "import yfinance as yf\n",
    "import datetime as dt\n",
    "import numpy as np\n",
    "import matplotlib.pyplot as plt\n",
    "\n",
    "yf.pdr_override()\n",
    "\n",
    "y_symbol_pairs = [('^GSPC', 'USD'), ('^MXX', 'MXN'), ('^FCHI', 'EUR'), ('^NYA', 'USD'),('^JKSE', 'IDR'), ('^RUT', 'USD'), ('^KS11', 'KRW')]\n",
    "y_symbol_pairs = [('^GSPC', 'USD'), ('^MXX', 'MXN'), ('^HSI', 'HKD'), ('^N225', 'JPY'),('^JKSE', 'IDR'), ('^N100', 'EUR'), ('^KLSE', 'MYR')]\n",
    "\n",
    "#y_symbols = ['^GSPC' , '^MXX', '^FCHI','^NYA','^JKSE', '^RUT', '^KS11' ]\n",
    "#y_symbols = ['AAPL', 'MSFT', 'KO', 'PEP', 'GE', 'GM', 'F' ]\n",
    "\n",
    "\n",
    "start_date = dt.datetime(2000,1,1)\n",
    "end_date = dt.datetime(2020,1,2)\n"
   ]
  },
  {
   "cell_type": "code",
   "execution_count": null,
   "id": "ff54fc99",
   "metadata": {},
   "outputs": [],
   "source": [
    "def convert_to_USD(index_data, currency):\n",
    "    if currency == 'USD':\n",
    "        return index_data\n",
    "    # get historical conversion rate to USD\n",
    "    tckr = yf.Ticker(currency+\"USD=X\")\n",
    "    df = tckr.history(start=start_date, end=end_date)\n",
    "    # fixing stupid error in the data\n",
    "    if currency==\"IDR\":\n",
    "        df.loc[\"2010-11-01\"]=df.loc[\"2010-11-02\"]\n",
    "    currency_data = df.resample('BMS').first()\n",
    "    \n",
    "    # convert the data\n",
    "    for item in index_data.items():\n",
    "        closest_date = currency_data.index[currency_data.index.get_loc(item[0], method='nearest')]\n",
    "        #print(item[0])\n",
    "        #print(\"closest date: \" + str(closest_date))\n",
    "        #print(\"before: \" + str(item[1]))\n",
    "        exchange_rate = currency_data.loc[closest_date][\"Open\"]\n",
    "        #print(\"exchange_rate: \" + str(exchange_rate))\n",
    "        index_data[item[0]] = item[1]*exchange_rate\n",
    "        #print(\"after: \" + str(index_data[item[0]]))\n",
    "        #print(\"________________________________\")\n",
    "    \n",
    "    return index_data"
   ]
  },
  {
   "cell_type": "code",
   "execution_count": null,
   "id": "6ce307a7",
   "metadata": {},
   "outputs": [],
   "source": [
    "data = pdr.get_data_yahoo([symbol for symbol, _ in y_symbol_pairs], start=start_date, end=end_date, interval='1mo')['Adj Close']\n",
    "\n",
    "for symbol, currency in y_symbol_pairs:\n",
    "    data[symbol] = convert_to_USD(data[symbol], currency)\n"
   ]
  },
  {
   "cell_type": "code",
   "execution_count": null,
   "id": "bf757634",
   "metadata": {},
   "outputs": [],
   "source": [
    "# 10 years sliding window\n",
    "sliding_windows_data = {}\n",
    "\n",
    "for j in range(11):\n",
    "    i=12*j\n",
    "    returns = (data / data.shift(1))[1+i:12*10+i]\n",
    "    logReturn = np.log(returns)\n",
    "    #var(aX) = a^2var(X), cov(aX, aX) = a^2 cov(X,X)\n",
    "    #print(returns)\n",
    "    yearly_mean = 12 * logReturn.mean()\n",
    "    yearly_var = 12 * logReturn.var()\n",
    "    yearly_std = np.sqrt(yearly_var)\n",
    "    yearly_cov = 12 * logReturn.cov()\n",
    "    \n",
    "    dates = (data.index[i], data.index[12*10+i])\n",
    "\n",
    "    sliding_windows_data[str(j+1) +'_yearly_mean'] = yearly_mean\n",
    "    sliding_windows_data[str(j+1) +'_yearly_var'] = yearly_var\n",
    "    sliding_windows_data[str(j+1) +'_yearly_std'] = yearly_std\n",
    "    sliding_windows_data[str(j+1) +'_yearly_cov'] = yearly_cov\n",
    "    sliding_windows_data[str(j+1) +'_dates'] = dates\n",
    "    \n",
    "    "
   ]
  },
  {
   "cell_type": "code",
   "execution_count": null,
   "id": "c557691b",
   "metadata": {},
   "outputs": [],
   "source": [
    "#expected yearly returns:\n",
    "for j in range(11):\n",
    "    print(\"SLIDING WINDOW \", j+1)\n",
    "    print(sliding_windows_data[str(j+1) +'_yearly_mean'])\n",
    "    print(\"____________________________________________________________\")"
   ]
  },
  {
   "cell_type": "code",
   "execution_count": null,
   "id": "2ad94457",
   "metadata": {},
   "outputs": [],
   "source": [
    "#cov_matrices:\n",
    "for j in range(11):\n",
    "    print(\"SLIDING WINDOW \", j+1)\n",
    "    print(sliding_windows_data[str(j+1) +'_yearly_cov'])\n",
    "    print(\"____________________________________________________________\")"
   ]
  },
  {
   "cell_type": "code",
   "execution_count": null,
   "id": "9ef469d5",
   "metadata": {},
   "outputs": [],
   "source": [
    "from pypfopt.plotting import plot_covariance\n",
    "#cov_matrices:\n",
    "for j in range(11):\n",
    "    plot_covariance(sliding_windows_data[str(j+1) +'_yearly_cov'])"
   ]
  },
  {
   "cell_type": "markdown",
   "id": "197029a4",
   "metadata": {},
   "source": [
    "#### Efficient frontiers"
   ]
  },
  {
   "cell_type": "code",
   "execution_count": null,
   "id": "a193d16e",
   "metadata": {},
   "outputs": [],
   "source": [
    "returns = sliding_windows_data[str(j+1) +'_yearly_mean']\n",
    "[-1 if a<0 else 1 for a in returns]"
   ]
  },
  {
   "cell_type": "code",
   "execution_count": null,
   "id": "80391e21",
   "metadata": {},
   "outputs": [],
   "source": [
    "import numpy as np\n",
    "import matplotlib.pyplot as plt\n",
    "\n",
    "risk_free_rate = 0.01\n",
    "shorting_allowed = False\n",
    "\n",
    " #take a list of lists of frontier returns and variances\n",
    "f_r = []\n",
    "f_v = []\n",
    "sharper = []\n",
    "#w = [] #append weights for each portfolio\n",
    "frontiers_portfolios = []\n",
    "highest_sharper_portfolios = []\n",
    "\n",
    "for j in range(11):\n",
    "    returns = sliding_windows_data[str(j+1) +'_yearly_mean']\n",
    "    covariances = sliding_windows_data[str(j+1) +'_yearly_cov']\n",
    "    shorting = [1]*len(returns)\n",
    "    if shorting_allowed:\n",
    "        shorting = [-1 if a<0 else 1 for a in returns]\n",
    "\n",
    "    frontier_mean_returns = []\n",
    "    frontier_stds = []\n",
    "    w = []\n",
    "    for i in range(3000):\n",
    "        weights = np.random.normal(0, 1, size=len(returns)) #use normal distribution\n",
    "        weights = [x if x >= 0 else 0 for x in weights]  \n",
    "        weights /= np.sum(weights)\n",
    "        # make weights negative where shorting is necessary\n",
    "        weights = weights*shorting\n",
    "        if np.isnan(weights).any():\n",
    "            continue\n",
    "        portfolio_return = np.sum(returns * weights)\n",
    "        portfolio_std = np.sqrt(np.dot(weights.T, np.dot(covariances, weights)))\n",
    "        frontier_mean_returns.append(portfolio_return)\n",
    "        frontier_stds.append(portfolio_std)\n",
    "        w.append(weights)\n",
    "    frontiers_portfolios.append(w)\n",
    "    f_r.append(frontier_mean_returns)\n",
    "    f_v.append(frontier_stds)\n",
    "\n",
    "    # highest sharper portfolio\n",
    "    sharper.append(np.array(frontier_mean_returns) / np.array(frontier_stds))\n",
    "    index = sharper[-1].argmax(axis=0)\n",
    "    highest_sharper_portfolios.append({\n",
    "        \"dates\": sliding_windows_data[str(j+1) +'_dates'],\n",
    "        \"return\": frontier_mean_returns[index],\n",
    "        \"std\": frontier_stds[index],\n",
    "        \"weights\": frontiers_portfolios[j][index]})\n",
    "    #print(highest_sharper_portfolios[-1][\"return\"])\n",
    "    #print(sum(sliding_windows_data[str(j+1) +'_yearly_mean']*highest_sharper_portfolios[-1][\"weights\"]))\n",
    "\n",
    "    \n",
    "\n",
    "    \n",
    "# Create a figure and a 3x3 grid of subplots\n",
    "fig, axs = plt.subplots(11, figsize=(6, 50))\n",
    "\n",
    "# Loop through the subplots and plot something on each of them\n",
    "for i in range(11):\n",
    "    im = axs[i].scatter(f_v[i], f_r[i], c=sharper[i])\n",
    "    im = axs[i].scatter(highest_sharper_portfolios[i][\"std\"], highest_sharper_portfolios[i][\"return\"], c=\"red\")\n",
    "    # plotting capital market line (tobin separation)\n",
    "    # equivalent to \n",
    "    #axs[i].axline((0, risk_free_rate), (highest_sharper_portfolios[i][\"std\"], highest_sharper_portfolios[i][\"return\"]))\n",
    "    # but prettier\n",
    "    axs[i].axline(\n",
    "        (min(f_v[i]), (min(f_v[i])/highest_sharper_portfolios[i][\"std\"])*(highest_sharper_portfolios[i][\"return\"]-risk_free_rate)+risk_free_rate),\n",
    "        (highest_sharper_portfolios[i][\"std\"], highest_sharper_portfolios[i][\"return\"]))\n",
    "    axs[i].set_xlabel('Standard Deviation (Risk)')\n",
    "    axs[i].set_ylabel('Expected Return')\n",
    "    plt.colorbar(im, ax=axs[i], label = 'Sharpe ratio')\n",
    "    \n",
    "count = 0\n",
    "for ax in axs.flat:\n",
    "    count +=1\n",
    "    ax.set_title(\"SLIDING WINDOW \" + str(count))\n",
    "\n",
    "plt.subplots_adjust(wspace=0.5, hspace=0.5)\n",
    "# Show the plot\n",
    "plt.show()\n",
    "\n"
   ]
  },
  {
   "cell_type": "code",
   "execution_count": null,
   "id": "11187122",
   "metadata": {},
   "outputs": [],
   "source": [
    "# Asset Allocation (uncomment last line to prove that code works)\n",
    "# I'm calculating optimal asset allocation and turnover for each time window. Maybe we're supposed to do it for each year idk\n",
    "\n",
    "# required rate of return\n",
    "rrr = 0.05\n",
    "borrowing_allowed = True\n",
    "\n",
    "# optimal asset allocation:\n",
    "# mix of max sharpe ratio portfolio and risk free rate that reaches RRR\n",
    "\n",
    "for i, portfolio in enumerate(highest_sharper_portfolios):\n",
    "\n",
    "    risk_free_rate_portion = (rrr - portfolio[\"return\"]) / (risk_free_rate - portfolio[\"return\"])\n",
    "\n",
    "    if not borrowing_allowed:\n",
    "        # make sure it's between 0 and 1\n",
    "        risk_free_rate_portion = 1 if risk_free_rate_portion>1 else 0 if risk_free_rate_portion<0 else risk_free_rate_portion\n",
    "\n",
    "    highest_sharper_portfolios[i][\"risk_free_rate_portion\"] = risk_free_rate_portion\n",
    "    highest_sharper_portfolios[i][\"weights_incl_rf\"] = np.append(portfolio[\"weights\"]*(1-risk_free_rate_portion), risk_free_rate_portion)\n",
    "\n",
    "    if risk_free_rate_portion>=0:\n",
    "        print(f\"\"\"{round(risk_free_rate_portion*100)}% of the portfolio in window {str(i+1)} should be risk free at {risk_free_rate*100}%, the remaining {round((1-risk_free_rate_portion)*100)}% have a return of {round(portfolio[\"return\"]*100)}%\"\"\")\n",
    "    else:\n",
    "        print(f\"\"\"Everything of the portfolio in window {str(i+1)} should be invested with a leverage of {round((1-risk_free_rate_portion),2)} (invest 100% + {round((-risk_free_rate_portion)*100)}% that was borrowed at {risk_free_rate*100}%)\"\"\")\n",
    "\n",
    "\n",
    "    # check if calculation was correct\n",
    "    print(f\"The total return of the portfolio is {round((risk_free_rate_portion*risk_free_rate + (1-risk_free_rate_portion)*portfolio['return'])*100, 1)}%\")\n"
   ]
  },
  {
   "cell_type": "code",
   "execution_count": null,
   "id": "ee52b7ef",
   "metadata": {},
   "outputs": [],
   "source": [
    "# turnover\n",
    "# For turnover I'm considering all assets, not just risk free. Not sure if it's correct.\n",
    "for i, (portfolio, previous_portfolio) in enumerate(zip(highest_sharper_portfolios[1:], highest_sharper_portfolios)):\n",
    "    \n",
    "    # parts of the portfolio that remain the same from the previous portfolio\n",
    "    unchanged_assets = [min(weight_pair) for weight_pair in zip(portfolio[\"weights_incl_rf\"], previous_portfolio[\"weights_incl_rf\"])]\n",
    "    turnover_rate = 1-sum(unchanged_assets)\n",
    "    print(f\"turnover rate from sliding window {i+1} to {i+2} is {round(turnover_rate*100)}%\")\n"
   ]
  },
  {
   "cell_type": "code",
   "execution_count": null,
   "id": "14a0e5dd",
   "metadata": {},
   "outputs": [],
   "source": [
    "weights*len(weights)"
   ]
  },
  {
   "cell_type": "code",
   "execution_count": null,
   "id": "e7872a24",
   "metadata": {},
   "outputs": [],
   "source": [
    "# Backtest (uncomment returns line and change the 12 to 119 to prove the code works (you should get aprox. 10x rrr))\n",
    "\n",
    "monthly_portfolio_logReturns = None\n",
    "\n",
    "for i, portfolio in enumerate(highest_sharper_portfolios[:-1]):\n",
    "    \n",
    "    # print year\n",
    "    print(f\"Year: {portfolio['dates'][1].year}\")\n",
    "\n",
    "    weights = portfolio[\"weights_incl_rf\"]\n",
    "\n",
    "    # connect symbol of each asset to weight the asset has in the portfolio\n",
    "    symbol_weight_pairs = zip(list(data.columns)+[\"risk free asset\"], weights)\n",
    "    # remove weights that are 0\n",
    "    symbol_weight_pairs = [pair for pair in symbol_weight_pairs if pair[1]]\n",
    "    # print symbol weight pairs\n",
    "    print(f\"Weights: {', '.join( [str(round(weight*100))+'% '+symbol for symbol, weight in symbol_weight_pairs] )}\")\n",
    "\n",
    "    # return from the year that starts immediately after the sliding window\n",
    "    returns = (data / data.shift(1))[i*12+120:i*12+120+12]\n",
    "    #returns = (data / data.shift(1))[1+i*12:12*10+i*12] # uncomment this\n",
    "    logReturn = np.log(returns)\n",
    "    # add column for risk free asset\n",
    "    logReturn[\"rf\"] = [risk_free_rate/12]*12 # change last 12 to 119\n",
    "    logReturn_weighted = (logReturn*weights).sum(axis=1)\n",
    "    monthly_portfolio_logReturns = pd.concat([monthly_portfolio_logReturns, logReturn_weighted])\n",
    "    #print(logReturn_weighted.sum(axis=1))\n",
    "    #print(logReturn_weighted)\n",
    "    logReturn_total = logReturn_weighted.sum()\n",
    "    # total weighted return for the year\n",
    "    print(f\"Return: {str(round(logReturn_total*100))}%\")\n",
    "    \n",
    "    # this works too but is more complicated\n",
    "    #covariances = logReturn.cov()\n",
    "    #portfolio_std = np.sqrt(np.dot(weights.T, np.dot(covariances, weights)))\n",
    "\n",
    "    portfolio_std = np.sqrt(logReturn_weighted.var())\n",
    "\n",
    "    print(f\"Standard deviation: \" + str(round(portfolio_std,4)))\n",
    "    "
   ]
  },
  {
   "cell_type": "code",
   "execution_count": null,
   "id": "18079f8c",
   "metadata": {},
   "outputs": [],
   "source": [
    "#CAPM (probably wrong idk xD)\n",
    "index_symbol = 'XWD.TO' # msci world\n",
    "start_date_plus_10 = start_date.replace(year = start_date.year + 10)\n",
    "data_broad_market = pdr.get_data_yahoo(index_symbol, start=start_date_plus_10, end=end_date, interval='1mo')['Adj Close']\n",
    "\n",
    "market_returns = data_broad_market / data_broad_market.shift(1)\n",
    "market_logReturn = np.log(market_returns).shift(periods=-1)[:-1]\n",
    "market_logReturn.name = 'market returns'\n",
    "monthly_portfolio_logReturns.name = 'portfolio returns'\n",
    "\n",
    "both_returns = pd.concat([monthly_portfolio_logReturns, market_logReturn], axis=1)\n",
    "\n",
    "market_yearly_mean = 12 * market_logReturn.mean()\n",
    "portfolio_yearly_mean = 12 * monthly_portfolio_logReturns.mean()\n",
    "portfolio_yearly_var = 12 * monthly_portfolio_logReturns.var()\n",
    "portfolio_yearly_cov = 12 * both_returns.cov()\n",
    "\n",
    "\n",
    "beta = portfolio_yearly_cov['market returns']['portfolio returns'] / portfolio_yearly_var\n",
    "market_return = market_yearly_mean # is this right??\n",
    "expected_return = risk_free_rate + beta * (market_return - risk_free_rate)\n",
    "jensens_alpha = portfolio_yearly_mean - (risk_free_rate + beta * (market_return - risk_free_rate))\n"
   ]
  },
  {
   "cell_type": "code",
   "execution_count": null,
   "id": "2396cb23",
   "metadata": {},
   "outputs": [],
   "source": [
    "#The results might change between runs because the points are computed at random"
   ]
  },
  {
   "cell_type": "code",
   "execution_count": null,
   "id": "53329157",
   "metadata": {},
   "outputs": [],
   "source": [
    "for i in range(len(f_r)):\n",
    "    print(\"Highest return portfolio, Sliding Window \", i +1)\n",
    "    print(frontiers_portfolios[i][np.argmax(f_r[i])])\n",
    "    print(\"__________________________________________\")"
   ]
  },
  {
   "cell_type": "code",
   "execution_count": null,
   "id": "ebe19d55",
   "metadata": {},
   "outputs": [],
   "source": [
    "# Less risky portfolio\n",
    "for i in range(len(f_r)):\n",
    "    print(\"Lowest risk portfolio, Sliding Window \", i +1)\n",
    "    print(frontiers_portfolios[i][np.argmin(f_v[i])])\n",
    "    print(\"__________________________________________\")"
   ]
  },
  {
   "cell_type": "code",
   "execution_count": null,
   "id": "ae527a99",
   "metadata": {},
   "outputs": [],
   "source": [
    "#Highest sharpe ratio\n",
    "\n",
    "for i in range(11):\n",
    "    SharpeR = np.array(f_r[i]) / np.array(f_v[i])\n",
    "    print(\"Highest Sharpe-ratio portfolio, Sliding Window \", i +1)\n",
    "    print(frontiers_portfolios[i][np.argmax(SharpeR)])\n",
    "    print(\"__________________________________________\")"
   ]
  },
  {
   "cell_type": "markdown",
   "id": "b866d157",
   "metadata": {},
   "source": [
    "# Let's try to replicate the previous efficient frontiers with a library"
   ]
  },
  {
   "cell_type": "code",
   "execution_count": null,
   "id": "97727064",
   "metadata": {},
   "outputs": [],
   "source": [
    "!pip install PyPortfolioOpt"
   ]
  },
  {
   "cell_type": "code",
   "execution_count": null,
   "id": "070a7107",
   "metadata": {},
   "outputs": [],
   "source": [
    "from pypfopt import EfficientFrontier\n",
    "from pypfopt import plotting\n",
    "\n",
    "# Create a figure and a 3x3 grid of subplots\n",
    "fig, axs = plt.subplots(11, figsize=(6, 50))\n",
    "\n",
    "# Loop through the subplots and plot something on each of them\n",
    "for i in range(11):\n",
    "    ef = EfficientFrontier(sliding_windows_data[str(i+1)+'_yearly_mean'], sliding_windows_data[str(i+1)+'_yearly_cov'], weight_bounds=(0, 1))\n",
    "    plotting.plot_efficient_frontier(ef, ax=axs[i], show_assets=True)\n",
    "    axs[i].set_xlabel('Standard Deviation (Risk)')\n",
    "    axs[i].set_ylabel('Expected Return')\n",
    "    \n",
    "count = 0\n",
    "for ax in axs.flat:\n",
    "    count +=1\n",
    "    ax.set_title(\"SLIDING WINDOW \" + str(count))\n",
    "\n",
    "plt.subplots_adjust(wspace=0.5, hspace=0.5)\n",
    "# Show the plot\n",
    "plt.show()"
   ]
  },
  {
   "cell_type": "markdown",
   "id": "6620639d",
   "metadata": {},
   "source": [
    "### The results are the same, we can use the library to use compute the efficient frontier with risk free rate 1"
   ]
  },
  {
   "cell_type": "markdown",
   "id": "0a1d4bca",
   "metadata": {},
   "source": [
    "## Efficient frontier risk free rate"
   ]
  },
  {
   "cell_type": "code",
   "execution_count": null,
   "id": "b8455e2a",
   "metadata": {},
   "outputs": [],
   "source": [
    "Rf = 0.01\n",
    "\n",
    "\n",
    "fig, axs = plt.subplots(11, figsize=(6, 50))\n",
    "\n",
    "# Loop through the subplots and plot something on each of them\n",
    "for i in range(11):\n",
    "    ef = EfficientFrontier(sliding_windows_data[str(i+1)+'_yearly_mean'], sliding_windows_data[str(i+1)+'_yearly_cov'], weight_bounds=(0, 1))\n",
    "    plotting.plot_efficient_frontier(ef, ax=axs[i], show_assets=True)\n",
    "    #need to create another instance\n",
    "    ef2 = EfficientFrontier(sliding_windows_data[str(i+1)+'_yearly_mean'], sliding_windows_data[str(i+1)+'_yearly_cov'], weight_bounds=(0, 1))\n",
    "    Best_portfolio = ef2.max_sharpe(risk_free_rate=0) #best portfolio weights\n",
    "    stats = ef2.portfolio_performance(verbose=False, risk_free_rate=0)\n",
    "    Rp = stats[0]\n",
    "    sigma = stats[1]\n",
    "    \n",
    "    xs = np.linspace(0, 2)\n",
    "    sigma_c = xs * sigma # slide 22 ch05\n",
    "    Rc = Rf + (Rp - Rf)/sigma * sigma_c\n",
    "    \n",
    "    \n",
    "    opt = axs[i].scatter(sigma, Rp, marker = '*', c = 'red', s=100, label = 'optimal portfolio')#best performance portfolio\n",
    "    line1, = axs[i].plot(sigma_c, Rc, \"-\", color=\"k\", linewidth=0.8, label = 'lending and borrowing')\n",
    "    axs[i].set_xlabel('Standard Deviation (Risk)')\n",
    "    axs[i].set_ylabel('Expected Return')\n",
    "    axs[i].legend()\n",
    "    \n",
    "count = 0\n",
    "for ax in axs.flat:\n",
    "    count +=1\n",
    "    ax.set_title(\"SLIDING WINDOW \" + str(count))\n",
    "\n",
    "plt.subplots_adjust(wspace=0.5, hspace=0.5)\n",
    "# Show the plot\n",
    "plt.show()\n"
   ]
  },
  {
   "cell_type": "markdown",
   "id": "d11982e7",
   "metadata": {},
   "source": [
    "### 5 real bonds data"
   ]
  },
  {
   "cell_type": "code",
   "execution_count": null,
   "id": "971061dd",
   "metadata": {},
   "outputs": [],
   "source": [
    "#10Y coupon = 4.125, price at 14:42, 10/01/23: 104.3281 maturity = 15 NOV 2032\n",
    "#30Y coupon = 4, 105.1406, 10/01/23 at 14:40 maturity = 15 NOV 2052\n",
    "#5Y coupon = 3.875, price at 10/01/23, 100.6641, 14:40 maturity = 31 DEC 2027\n",
    "#3Y coupon = 4, , price 99.9766 14:40 maturity = 15 DEC 2025\n",
    "#2Y coupon = 4.25, price 99.9727 at 10/01/23, 14:39 maturity 31 DEC 2024\n",
    "#data imported from investing.com from 01/01/2022 to 10/01/2023 (in order to get more data even if it's outside set date)"
   ]
  },
  {
   "cell_type": "code",
   "execution_count": null,
   "id": "35575760",
   "metadata": {},
   "outputs": [],
   "source": [
    "prices = [99.9727, 99.9766, 100.6641, 104.3281, 105.1406 ]\n",
    "coupons = [4, 4.25, 3.875, 4.125, 4]\n",
    "periods = [2,3,5,10,30] #years to maturity\n",
    "YTM = []\n",
    "face_value = 100"
   ]
  },
  {
   "cell_type": "markdown",
   "id": "44cf3483",
   "metadata": {},
   "source": [
    "### for YTM we can compute the yield with the newton method specifying the correct formula for each bond as done below"
   ]
  },
  {
   "cell_type": "code",
   "execution_count": null,
   "id": "8ba05d6a",
   "metadata": {},
   "outputs": [],
   "source": [
    "from scipy.optimize import newton\n",
    "#US2Y = 4 payments in 2 years\n",
    "C_t = (100 * coupons[0]/100)/2\n",
    "US2Y = lambda y: (C_t/((1+y/2)**1)) +(C_t/((1+y/2)**2)) + (C_t/((1+y/2)**3)) + ((face_value + C_t)/((1+y/2)**4)) - prices[0]"
   ]
  },
  {
   "cell_type": "code",
   "execution_count": null,
   "id": "c28bbedb",
   "metadata": {},
   "outputs": [],
   "source": [
    "#US3Y = 6 payments in 3 years\n",
    "C_t = (100 * coupons[1]/100)/2\n",
    "US3Y = lambda y: (C_t/((1+y/2)**1)) +(C_t/((1+y/2)**2)) + (C_t/((1+y/2)**3)) +\\\n",
    "            +(C_t/((1+y/2)**4)) + (C_t/((1+y/2)**5)) + ((face_value + C_t)/((1+y/2)**6)) - prices[1]"
   ]
  },
  {
   "cell_type": "code",
   "execution_count": null,
   "id": "298f356b",
   "metadata": {},
   "outputs": [],
   "source": [
    "#US5Y = 10 payments in 5 years\n",
    "C_t = (100 * coupons[2]/100)/2\n",
    "US5Y = lambda y: (C_t/((1+y/2)**1)) +(C_t/((1+y/2)**2)) + (C_t/((1+y/2)**3)) +\\\n",
    "            +(C_t/((1+y/2)**4)) + (C_t/((1+y/2)**5)) +(C_t/((1+y/2)**6)) +\\\n",
    "             +(C_t/((1+y/2)**7)) +(C_t/((1+y/2)**8)) +(C_t/((1+y/2)**9))+\\\n",
    "            + ((face_value + C_t)/((1+y/2)**10)) - prices[2]"
   ]
  },
  {
   "cell_type": "code",
   "execution_count": null,
   "id": "b7b06c9c",
   "metadata": {},
   "outputs": [],
   "source": [
    "#US10Y = 20 payments in 10 years\n",
    "C_t = (100 * coupons[3]/100)/2\n",
    "US10Y = lambda y: (C_t/((1+y/2)**1)) +(C_t/((1+y/2)**2)) + (C_t/((1+y/2)**3)) +\\\n",
    "            +(C_t/((1+y/2)**4)) + (C_t/((1+y/2)**5)) +(C_t/((1+y/2)**6)) +\\\n",
    "             +(C_t/((1+y/2)**7))+(C_t/((1+y/2)**8))+ (C_t/((1+y/2)**9))+\\\n",
    "             (C_t/((1+y/2)**10)) +(C_t/((1+y/2)**11)) + (C_t/((1+y/2)**12)) +\\\n",
    "            +(C_t/((1+y/2)**13)) + (C_t/((1+y/2)**14)) +(C_t/((1+y/2)**15)) +\\\n",
    "            + (C_t/((1+y/2)**16))+ (C_t/((1+y/2)**17)) +(C_t/((1+y/2)**18))+\\\n",
    "            +(C_t/((1+y/2)**19)) +\\\n",
    "            + ((face_value + C_t)/((1+y/2)**20)) - prices[3]"
   ]
  },
  {
   "cell_type": "code",
   "execution_count": null,
   "id": "aade6115",
   "metadata": {},
   "outputs": [],
   "source": [
    "#US30Y = 60 payments in 30 years\n",
    "C_t = (100 * coupons[4]/100)/2\n",
    "US30Y = lambda y: (C_t/((1+y/2)**1)) +(C_t/((1+y/2)**2)) + (C_t/((1+y/2)**3)) +\\\n",
    "            +(C_t/((1+y/2)**4)) + (C_t/((1+y/2)**5)) +(C_t/((1+y/2)**6)) +\\\n",
    "             +(C_t/((1+y/2)**7))+(C_t/((1+y/2)**8))+ (C_t/((1+y/2)**9))+\\\n",
    "             (C_t/((1+y/2)**10)) +(C_t/((1+y/2)**11)) + (C_t/((1+y/2)**12)) +\\\n",
    "            +(C_t/((1+y/2)**13)) + (C_t/((1+y/2)**14)) +(C_t/((1+y/2)**15)) +\\\n",
    "            + (C_t/((1+y/2)**16))+ (C_t/((1+y/2)**17)) +(C_t/((1+y/2)**18))+\\\n",
    "            +(C_t/((1+y/2)**19)) +\\\n",
    "            (C_t/((1+y/2)**20)) +(C_t/((1+y/2)**21)) + (C_t/((1+y/2)**22)) +\\\n",
    "            +(C_t/((1+y/2)**23)) + (C_t/((1+y/2)**24)) +(C_t/((1+y/2)**25)) +\\\n",
    "             +(C_t/((1+y/2)**26))+(C_t/((1+y/2)**27))+ (C_t/((1+y/2)**28))+\\\n",
    "             (C_t/((1+y/2)**29)) +(C_t/((1+y/2)**30)) + (C_t/((1+y/2)**31)) +\\\n",
    "            +(C_t/((1+y/2)**32)) + (C_t/((1+y/2)**33)) +(C_t/((1+y/2)**34)) +\\\n",
    "            + (C_t/((1+y/2)**35))+ (C_t/((1+y/2)**36)) +(C_t/((1+y/2)**37))+\\\n",
    "            +(C_t/((1+y/2)**38)) + (C_t/((1+y/2)**39))+\\\n",
    "            +(C_t/((1+y/2)**40)) +(C_t/((1+y/2)**41)) + (C_t/((1+y/2)**42)) +\\\n",
    "            +(C_t/((1+y/2)**43)) + (C_t/((1+y/2)**44)) +(C_t/((1+y/2)**45)) +\\\n",
    "             +(C_t/((1+y/2)**46))+(C_t/((1+y/2)**47))+ (C_t/((1+y/2)**48))+\\\n",
    "             (C_t/((1+y/2)**49)) +(C_t/((1+y/2)**50)) + (C_t/((1+y/2)**51)) +\\\n",
    "            +(C_t/((1+y/2)**52)) + (C_t/((1+y/2)**53)) +(C_t/((1+y/2)**54)) +\\\n",
    "            + (C_t/((1+y/2)**55))+ (C_t/((1+y/2)**56)) +(C_t/((1+y/2)**57))+\\\n",
    "            +(C_t/((1+y/2)**58)) +(C_t/((1+y/2)**59))+\\\n",
    "            + ((face_value + C_t)/((1+y/2)**60)) - prices[4]"
   ]
  },
  {
   "cell_type": "code",
   "execution_count": null,
   "id": "e0e551c8",
   "metadata": {},
   "outputs": [],
   "source": [
    "r = round(newton(US2Y, 0.01)*100,2)\n",
    "print(\"YTM US2Y: \" + str(r))\n",
    "YTM.append(r)"
   ]
  },
  {
   "cell_type": "code",
   "execution_count": null,
   "id": "ed09f0c9",
   "metadata": {},
   "outputs": [],
   "source": [
    "r = round(newton(US3Y, 0.01)*100,2)\n",
    "print(\"YTM US3Y: \" + str(r))\n",
    "YTM.append(r)"
   ]
  },
  {
   "cell_type": "code",
   "execution_count": null,
   "id": "1347dba3",
   "metadata": {},
   "outputs": [],
   "source": [
    "r = round(newton(US5Y, 0.01)*100,2)\n",
    "print(\"YTM US5Y: \" + str(r))\n",
    "YTM.append(r)"
   ]
  },
  {
   "cell_type": "code",
   "execution_count": null,
   "id": "1ac962ec",
   "metadata": {},
   "outputs": [],
   "source": [
    "r = round(newton(US10Y, 0.01)*100,2)\n",
    "print(\"YTM US10Y: \" + str(r))\n",
    "YTM.append(r)"
   ]
  },
  {
   "cell_type": "code",
   "execution_count": null,
   "id": "33009c50",
   "metadata": {},
   "outputs": [],
   "source": [
    "r = round(newton(US30Y, 0.01)*100,2)\n",
    "print(\"YTM US30Y: \" + str(r))\n",
    "YTM.append(r)"
   ]
  },
  {
   "cell_type": "markdown",
   "id": "afea288f",
   "metadata": {},
   "source": [
    "### We can automitize the previous procedure by using some approximation formula (in this way we can automize the yield to maturity based on period and so on ...) that return really similar values:"
   ]
  },
  {
   "cell_type": "code",
   "execution_count": null,
   "id": "813984ba",
   "metadata": {},
   "outputs": [],
   "source": [
    "def YTM_func(price, face, coupon, periods):\n",
    "    def bond_price_calc(YTM):\n",
    "        return ((coupon*((1-(1+YTM)**-periods))/YTM)+((face)/(1+YTM)**periods))-price\n",
    "    return bond_price_calc"
   ]
  },
  {
   "cell_type": "code",
   "execution_count": null,
   "id": "441fdeb5",
   "metadata": {},
   "outputs": [],
   "source": [
    "for i in range(5):\n",
    "    r = round(newton(YTM_func(price=prices[i],face=100,coupon=coupons[i],periods=periods[i]), 0.01)*100, 2)\n",
    "    print(\"YTM (APPROXIMATION) BOND \" +str(i) + \": \" + str(r))"
   ]
  },
  {
   "cell_type": "code",
   "execution_count": null,
   "id": "380f3748",
   "metadata": {},
   "outputs": [],
   "source": [
    "### tutorial youtube\n",
    "###https://www.investopedia.com/terms/d/duration.asp\n",
    "\n",
    "import numpy as np\n",
    "import pandas as pd\n",
    "import bond_pricing\n",
    "\n",
    "def Duration(rate, coupon_rate, frequency, face_value, settlement_date, maturity_date, change_in_yield):\n",
    "    \n",
    "    try:\n",
    "        settlement_date = pd.to_datetime(settlement_date, format=\"%d/%m/%Y\")\n",
    "    except:\n",
    "        settlement_date = pd.to_datetime(settlement_date, format=\"%d-%m-%Y\")\n",
    "        \n",
    "    try:\n",
    "        maturity_date = pd.to_datetime(maturity_date, format=\"%d/%m/%Y\")\n",
    "    except:\n",
    "        maturity_date = pd.to_datetime(maturity_date, format=\"%d-%m-%Y\")\n",
    "    \n",
    "    data = pd.DataFrame()\n",
    "    rate = rate/100\n",
    "    coupon_rate = coupon_rate/100\n",
    "    \n",
    "    #duration\n",
    "    n = pd.to_numeric(((pd.to_datetime(maturity_date) - pd.to_datetime(settlement_date))/365).days)\n",
    "    total_payment = n*frequency #(years times payment freq)\n",
    "    coupon_payment = coupon_rate/frequency * face_value\n",
    "    payment = [coupon_payment] *(total_payment-1) + [coupon_payment + face_value] ## all payments [coup, coup, ... coup+par]\n",
    "    data['period'] = pd.DataFrame(np.arange(1,total_payment + 1)) # number of payments (arange skip last value)\n",
    "    data['payment'] = pd.DataFrame(payment)\n",
    "    data['dcoupon'] = data['payment'] / ((1 + rate/frequency)**data['period'])\n",
    "    data['pv'] = data['dcoupon'] / frequency * data['period'] / data['dcoupon'].sum()#duration formula per period\n",
    "    duration = data['pv'].sum() #sum to obtain duration\n",
    "    m_duration = duration / (1+ (rate/frequency))\n",
    "    \n",
    "    \n",
    "    #convexity\n",
    "    #factor = 1/(data['dcoupon'].sum() * (1+rate/frequency)**2)\n",
    "    \n",
    "    #as in the book:\n",
    "    data['cf'] = (data['payment']*(data['period']**2 + data['period'])) / (1+rate/frequency)**data['period']\n",
    "    convexity = 0.5* data['cf'].sum() / data['dcoupon'].sum()\n",
    "    \n",
    "    #price change = duration + conv  effcts\n",
    "    price_change = (-duration * change_in_yield ) + ( convexity * (change_in_yield)**2 )\n",
    "    \n",
    "    bond_price = data['dcoupon'].sum()#bond_pricing.simple_bonds.bond_price(settle=settlement_date, cpn=coupon_rate, mat=maturity_date, yld=rate, freq=frequency, face=face_value)\n",
    "    \n",
    "    corrected_price = (bond_price* price_change) + bond_price  \n",
    "    \n",
    "    return duration, m_duration, convexity, price_change, bond_price, corrected_price, data\n",
    "    \n",
    "    \n",
    "    \n",
    "    \n",
    "    \n",
    "       "
   ]
  },
  {
   "cell_type": "markdown",
   "id": "1992386b",
   "metadata": {},
   "source": [
    "# Book example"
   ]
  },
  {
   "cell_type": "code",
   "execution_count": null,
   "id": "777c7ad5",
   "metadata": {},
   "outputs": [],
   "source": [
    "Duration(10, 0, 1,1000, \"01/01/2022\", \"01/01/2027\", 0.02)\n",
    "#bond_pricing.simple_bonds.bond_duration(settle=\"01/01/2022\", mat=\"01/01/2032\", cpn=5/100, yld=5/100, freq=1)"
   ]
  },
  {
   "cell_type": "code",
   "execution_count": null,
   "id": "f2b5dbcf",
   "metadata": {},
   "outputs": [],
   "source": [
    "#US2Y"
   ]
  },
  {
   "cell_type": "code",
   "execution_count": null,
   "id": "e957870b",
   "metadata": {},
   "outputs": [],
   "source": [
    "import matplotlib.pyplot as plt\n",
    "face_value = 100\n",
    "\n",
    "results = Duration(YTM[0], coupons[0],2, face_value, \"31-12-2022\", \"31-12-2024\", 0)\n",
    "duration = results[0]\n",
    "convexity = results[2]\n",
    "print(\"BOND (US2Y) DURATION = \" + str(duration))\n",
    "print(\"BOND (US2Y) CONVEXITY = \" + str(convexity))\n",
    "\n",
    "#print how price will change with some intresets rates changes\n",
    "\n",
    "interest_rate_shift = [-0.015, -0.01, -0.005, 0, 0.005, 0.01, 0.015]\n",
    "l= []\n",
    "for i in interest_rate_shift:\n",
    "    l.append(Duration(YTM[0], coupons[0],2, face_value, \"31-12-2022\", \"31-12-2024\", i)[5])\n",
    "plt.plot(interest_rate_shift, l, label=\"convexity curve\")\n",
    "\n",
    "plt.xlabel(\"interest change\")\n",
    "plt.ylabel('price')\n",
    "plt.legend()"
   ]
  },
  {
   "cell_type": "code",
   "execution_count": null,
   "id": "3d5b3bf0",
   "metadata": {},
   "outputs": [],
   "source": [
    "#US3Y\n",
    "face_value = 100\n",
    "\n",
    "results = Duration(YTM[0], coupons[1], 2, face_value, \"15-12-2022\", \"15-12-2025\", 0)\n",
    "duration = results[0]\n",
    "convexity = results[2]\n",
    "print(\"BOND (US3Y) DURATION = \" + str(duration))\n",
    "print(\"BOND (US3Y) CONVEXITY = \" + str(convexity))\n",
    "\n",
    "#print how price will change with some intresets rates changes\n",
    "\n",
    "interest_rate_shift = [-0.015, -0.01, -0.005, 0, 0.005, 0.01, 0.015]\n",
    "l= []\n",
    "for i in interest_rate_shift:\n",
    "    l.append(Duration(YTM[0], coupons[1], 2, face_value,  \"15-12-2022\", \"15-12-2025\", i)[5])\n",
    "plt.plot(interest_rate_shift, l, label=\"convexity curve\")\n",
    "\n",
    "plt.xlabel(\"interest change\")\n",
    "plt.ylabel('price')\n",
    "plt.legend()"
   ]
  },
  {
   "cell_type": "code",
   "execution_count": null,
   "id": "1ab020fd",
   "metadata": {},
   "outputs": [],
   "source": [
    "#US5Y\n",
    "face_value = 100\n",
    "\n",
    "results = Duration(YTM[0], coupons[2], 2, face_value, \"31-12-2022\", \"31-12-2027\", 0)\n",
    "duration = results[0]\n",
    "convexity = results[2]\n",
    "print(\"BOND (US5Y) DURATION = \" + str(duration))\n",
    "print(\"BOND (US5Y) CONVEXITY = \" + str(convexity))\n",
    "\n",
    "#print how price will change with some intresets rates changes\n",
    "\n",
    "interest_rate_shift = [-0.015, -0.01, -0.005, 0, 0.005, 0.01, 0.015]\n",
    "l= []\n",
    "for i in interest_rate_shift:\n",
    "    l.append(Duration(YTM[0], coupons[2], 2, face_value,  \"31-12-2022\", \"31-12-2027\", i)[5])\n",
    "plt.plot(interest_rate_shift, l, label=\"convexity curve\")\n",
    "\n",
    "plt.xlabel(\"interest change\")\n",
    "plt.ylabel('price')\n",
    "plt.legend()"
   ]
  },
  {
   "cell_type": "code",
   "execution_count": null,
   "id": "d28d2cd7",
   "metadata": {},
   "outputs": [],
   "source": [
    "#US10Y\n",
    "face_value = 100\n",
    "\n",
    "results = Duration(YTM[0], coupons[3], 2, face_value, \"15-11-2022\", \"15-11-2032\", 0)\n",
    "duration = results[0]\n",
    "convexity = results[2]\n",
    "print(\"BOND (US10Y) DURATION = \" + str(duration))\n",
    "print(\"BOND (US10Y) CONVEXITY = \" + str(convexity))\n",
    "\n",
    "#print how price will change with some intresets rates changes\n",
    "\n",
    "interest_rate_shift = [-0.015, -0.01, -0.005, 0, 0.005, 0.01, 0.015]\n",
    "l= []\n",
    "for i in interest_rate_shift:\n",
    "    l.append(Duration(YTM[0], coupons[3], 2, face_value,  \"15-11-2022\", \"15-11-2032\", i)[5])\n",
    "plt.plot(interest_rate_shift, l, label=\"convexity curve\")\n",
    "\n",
    "plt.xlabel(\"interest change\")\n",
    "plt.ylabel('price')\n",
    "plt.legend()"
   ]
  },
  {
   "cell_type": "code",
   "execution_count": null,
   "id": "05081628",
   "metadata": {},
   "outputs": [],
   "source": [
    "#US30Y\n",
    "face_value = 100\n",
    "\n",
    "results = Duration(YTM[0], coupons[4], 2, face_value, \"15-11-2022\", \"15-11-2052\", 0)\n",
    "duration = results[0]\n",
    "convexity = results[2]\n",
    "print(\"BOND (US30Y) DURATION = \" + str(duration))\n",
    "print(\"BOND (US30Y) CONVEXITY = \" + str(convexity))\n",
    "\n",
    "#print how price will change with some intresets rates changes\n",
    "\n",
    "interest_rate_shift = [-0.015, -0.01, -0.005, 0, 0.005, 0.01, 0.015]\n",
    "l= []\n",
    "for i in interest_rate_shift:\n",
    "    l.append(Duration(YTM[0], coupons[4], 2, face_value,  \"15-11-2022\", \"15-11-2052\", i)[5])\n",
    "plt.plot(interest_rate_shift, l, label=\"convexity curve\")\n",
    "\n",
    "plt.xlabel(\"interest change\")\n",
    "plt.ylabel('price')\n",
    "plt.legend()"
   ]
  },
  {
   "cell_type": "markdown",
   "id": "3ad3066c",
   "metadata": {},
   "source": [
    "## Bonds portfolio"
   ]
  },
  {
   "cell_type": "code",
   "execution_count": null,
   "id": "d643501f",
   "metadata": {},
   "outputs": [],
   "source": [
    "#conversion\n",
    "from forex_python.converter import CurrencyRates\n",
    "\n",
    "c = CurrencyRates()\n",
    "\n",
    "USD = 100000 * c.get_rate('EUR', 'USD')"
   ]
  },
  {
   "cell_type": "code",
   "execution_count": null,
   "id": "e66fb38b",
   "metadata": {},
   "outputs": [],
   "source": [
    "USD"
   ]
  },
  {
   "cell_type": "code",
   "execution_count": null,
   "id": "4c9bbcb5",
   "metadata": {},
   "outputs": [],
   "source": [
    "prices     #market prices"
   ]
  },
  {
   "cell_type": "code",
   "execution_count": null,
   "id": "c221b773",
   "metadata": {},
   "outputs": [],
   "source": [
    "bonds_portfolio = []\n",
    "for p in prices:\n",
    "    num_bonds = int(USD/ p)\n",
    "    bonds_portfolio.append(num_bonds)\n",
    "bonds_portfolio"
   ]
  },
  {
   "cell_type": "code",
   "execution_count": null,
   "id": "825460cf",
   "metadata": {},
   "outputs": [],
   "source": [
    "spent = np.array(bonds_portfolio) * np.array(prices)# how much was spent for each bond\n",
    "#compute weights:\n",
    "weights = spent/ spent.sum()\n",
    "weights"
   ]
  },
  {
   "cell_type": "code",
   "execution_count": null,
   "id": "0a489673",
   "metadata": {},
   "outputs": [],
   "source": [
    "#Duration of portfolio:\n",
    "\n",
    "durations = []\n",
    "durations.append(round(Duration(YTM[0], coupons[0], 2, face_value, \"31-12-2022\", \"31-12-2024\", 0)[0],2))\n",
    "durations.append(round(Duration(YTM[1], coupons[1], 2, face_value,  \"15-12-2022\", \"15-12-2025\", 0)[0],2))\n",
    "durations.append(round(Duration(YTM[2], coupons[2], 2, face_value,  \"31-12-2022\", \"31-12-2027\", 0)[0],2))\n",
    "durations.append(round(Duration(YTM[3], coupons[3], 2, face_value,  \"15-11-2022\", \"15-11-2032\", 0)[0],2))\n",
    "durations.append(round(Duration(YTM[4], coupons[4], 2, face_value,  \"15-11-2022\", \"15-11-2052\", 0)[0],2))\n",
    "durations"
   ]
  },
  {
   "cell_type": "code",
   "execution_count": null,
   "id": "3a1846ec",
   "metadata": {},
   "outputs": [],
   "source": [
    "#Convexity of portfolio:\n",
    "\n",
    "convs = []\n",
    "convs.append(round(Duration(YTM[0], coupons[0], 2, face_value, \"31-12-2022\", \"31-12-2024\", 0)[2],2))\n",
    "convs.append(round(Duration(YTM[1], coupons[1], 2, face_value,  \"15-12-2022\", \"15-12-2025\", 0)[2],2))\n",
    "convs.append(round(Duration(YTM[2], coupons[2], 2, face_value,  \"31-12-2022\", \"31-12-2027\", 0)[2],2))\n",
    "convs.append(round(Duration(YTM[3], coupons[3], 2, face_value,  \"15-11-2022\", \"15-11-2032\", 0)[2],2))\n",
    "convs.append(round(Duration(YTM[4], coupons[4], 2, face_value,  \"15-11-2022\", \"15-11-2052\", 0)[2],2))\n",
    "convs"
   ]
  },
  {
   "cell_type": "code",
   "execution_count": null,
   "id": "71700e3e",
   "metadata": {},
   "outputs": [],
   "source": [
    "print(\"Duration of portfolio: \"+ str((weights * durations).sum()))"
   ]
  },
  {
   "cell_type": "code",
   "execution_count": null,
   "id": "b581f18b",
   "metadata": {},
   "outputs": [],
   "source": [
    "print(\"Convexity of portfolio: \"+ str((weights * convs).sum()))"
   ]
  },
  {
   "cell_type": "markdown",
   "id": "e4ab387e",
   "metadata": {},
   "source": [
    "### compute market value loss as yield increases"
   ]
  },
  {
   "cell_type": "code",
   "execution_count": null,
   "id": "a1ece28a",
   "metadata": {
    "scrolled": true
   },
   "outputs": [],
   "source": [
    "#change in price with 150 basis increase in yield:\n",
    "new_prices = []\n",
    "new_prices.append(round(Duration(YTM[0], coupons[0], 2, face_value, \"31-12-2022\", \"31-12-2024\", 0.015)[5],2))\n",
    "new_prices.append(round(Duration(YTM[1], coupons[1], 2, face_value,  \"15-12-2022\", \"15-12-2025\", 0.015)[5],2))\n",
    "new_prices.append(round(Duration(YTM[2], coupons[2], 2, face_value,  \"31-12-2022\", \"31-12-2027\", 0.015)[5],2))\n",
    "new_prices.append(round(Duration(YTM[3], coupons[3], 2, face_value,  \"15-11-2022\", \"15-11-2032\", 0.015)[5],2))\n",
    "new_prices.append(round(Duration(YTM[4], coupons[4], 2, face_value,  \"15-11-2022\", \"15-11-2052\", 0.015)[5],2))\n",
    "new_prices # new prices after change in yield"
   ]
  },
  {
   "cell_type": "code",
   "execution_count": null,
   "id": "2974f108",
   "metadata": {},
   "outputs": [],
   "source": [
    "price_c = (np.array(bonds_portfolio) * np.array(new_prices)).sum()"
   ]
  },
  {
   "cell_type": "code",
   "execution_count": null,
   "id": "a636c737",
   "metadata": {},
   "outputs": [],
   "source": [
    "ini_price = (np.array(bonds_portfolio) * np.array(prices)).sum()"
   ]
  },
  {
   "cell_type": "code",
   "execution_count": null,
   "id": "7ce68201",
   "metadata": {},
   "outputs": [],
   "source": [
    "loss = (price_c - ini_price) / ini_price\n",
    "\n",
    "print(\"the portfolio market value had decreased by: \"+ str(round(loss, 4 ) * 100) + \"%\") "
   ]
  },
  {
   "cell_type": "code",
   "execution_count": null,
   "id": "65413c9c",
   "metadata": {},
   "outputs": [],
   "source": [
    "#control:\n",
    "print(ini_price + (ini_price * loss))\n",
    "price_c"
   ]
  },
  {
   "cell_type": "code",
   "execution_count": null,
   "id": "6fcd543d",
   "metadata": {},
   "outputs": [],
   "source": [
    "(7.5/100 * (10 / 365)) * 20000"
   ]
  },
  {
   "cell_type": "markdown",
   "id": "bb2c4cc2",
   "metadata": {},
   "source": [
    "## Computing dirty prices"
   ]
  },
  {
   "cell_type": "code",
   "execution_count": null,
   "id": "fb46930a",
   "metadata": {},
   "outputs": [],
   "source": [
    "def dirty_price(PV, YTM, payments_per_period, t, coupon, face_value): #t=days since last payment day\n",
    "    coupon = coupon/100\n",
    "    interest =  coupon/payments_per_period * t/365 *face_value\n",
    "    return PV + interest"
   ]
  },
  {
   "cell_type": "code",
   "execution_count": null,
   "id": "0f8d8444",
   "metadata": {},
   "outputs": [],
   "source": [
    "#prices #market prices (present value)\n",
    "#YTM #yields to maturity\n",
    "def compute_dirty_prices(num_payments_period, init_date, end_date,current_date, PV, YTM, coupon, face_value):\n",
    "    #num_payments_period = 2\n",
    "    init_date = pd.to_datetime(init_date, format=\"%d/%m/%Y\") #day after the market prices where taken\n",
    "    end_date = pd.to_datetime(end_date, format=\"%d/%m/%Y\")\n",
    "    current_date = pd.to_datetime(current_date, format=\"%d/%m/%Y\")\n",
    "    \n",
    "    days_to_m = pd.to_numeric(((pd.to_datetime(end_date) - pd.to_datetime(init_date))).days) #days until maturity\n",
    "    time_passed = days_to_m - pd.to_numeric(((pd.to_datetime(end_date) - pd.to_datetime(current_date))).days)\n",
    "    \n",
    "    years = days_to_m/365\n",
    "    days_per_period = days_to_m / (years*num_payments_period)\n",
    "\n",
    "    periods = years*num_payments_period\n",
    "    dirty_prices = []\n",
    "    total_days = 0\n",
    "    for period in range(int(periods)):\n",
    "        loop = int(days_per_period)\n",
    "        if period % num_payments_period == 1: #add 1 day in odd periods, IT'S ALWAYS 2 IN MY CASE\n",
    "            loop += 1\n",
    "        for days_passed in range(loop):#I need to start from the 10/01\n",
    "            if total_days > time_passed:\n",
    "                dirty_prices.append(dirty_price(PV, YTM, num_payments_period, days_passed, coupon, face_value))\n",
    "            total_days+=1\n",
    "    \n",
    "    dirty_prices.append(dirty_price(PV, YTM, num_payments_period, 0, coupon, face_value))#last value to complete the plot    \n",
    "    return dirty_prices, time_passed, total_days"
   ]
  },
  {
   "cell_type": "code",
   "execution_count": null,
   "id": "b518c98f",
   "metadata": {},
   "outputs": [],
   "source": [
    "d_prices, time_passed, tot_days = compute_dirty_prices(2, \"31/12/2022\",\"31/12/2024\",\"10/01/2023\", prices[0], YTM[0], coupons[0], 100)\n",
    "#plt.plot(np.array(range(len(d_prices)))+10, d_prices)\n",
    "#plt.plot(np.array(range(10 , 730)), d_prices) #same\n",
    "\n",
    "fig, ax = plt.subplots(1,1)\n",
    "ticks =[x for x in range(len(d_prices)) if x%100 == 0]\n",
    "ticks.append(time_passed)\n",
    "ticks.remove(0)\n",
    "p=ax.plot(np.array(range(len(d_prices)))+10, d_prices)\n",
    "ax.set_xticks(ticks)\n",
    "ax.set_xticklabels(ticks)\n",
    "ax.set_title(\"Dirty prices Bond 1\")\n",
    "ax.set_xlabel('Days')\n",
    "ax.set_ylabel('Price')\n",
    "#ax.set_xlim([10, 730])\n"
   ]
  },
  {
   "cell_type": "code",
   "execution_count": null,
   "id": "3d3283c9",
   "metadata": {},
   "outputs": [],
   "source": [
    "current_date = \"10/01/2023\"\n",
    "start_dates = [ \"31/12/2022\",\"15/12/2022\", \"31/12/2022\", \"15/11/2022\",\"15/11/2022\" ]\n",
    "end_dates = [ \"31/12/2024\",\"15/12/2025\", \"31/12/2027\", \"15/11/2032\",\"15/11/2052\" ]\n",
    "\n",
    "fig, ax = plt.subplots(5, figsize=(16, 25))\n",
    "\n",
    "for i in range(5):\n",
    "    d_prices, time_passed, tot_days = compute_dirty_prices(2, start_dates[i],end_dates[i],current_date, prices[i], YTM[i], coupons[i], face_value)\n",
    "\n",
    "    ticks =[x for x in range(len(d_prices)) if x%100 == 0]\n",
    "    ticks.append(time_passed)\n",
    "    ticks.remove(0)\n",
    "    p=ax[i].plot(np.array(range(len(d_prices)))+10, d_prices)\n",
    "    #ax[i].set_xticks(ticks)\n",
    "    #ax[i].set_xticklabels(ticks)\n",
    "    ax[i].set_title(\"Dirty prices Bond \" + str(i+1))\n",
    "    ax[i].set_xlabel('Days')\n",
    "    ax[i].set_ylabel('Price')\n",
    "    #ax.set_xlim([10, 730])\n",
    "\n"
   ]
  },
  {
   "cell_type": "markdown",
   "id": "eab9259e",
   "metadata": {},
   "source": [
    "# Apply dirty prices to portfolio"
   ]
  },
  {
   "cell_type": "code",
   "execution_count": null,
   "id": "3c66ea7c",
   "metadata": {},
   "outputs": [],
   "source": [
    "#plot the market value of the portfolio against days, every time a bond is matured remove it ofc."
   ]
  },
  {
   "cell_type": "code",
   "execution_count": null,
   "id": "76cb96bf",
   "metadata": {},
   "outputs": [],
   "source": []
  },
  {
   "cell_type": "code",
   "execution_count": null,
   "id": "9f974135",
   "metadata": {},
   "outputs": [],
   "source": []
  },
  {
   "cell_type": "code",
   "execution_count": null,
   "id": "6d054d71",
   "metadata": {},
   "outputs": [],
   "source": []
  },
  {
   "cell_type": "code",
   "execution_count": null,
   "id": "9f4f96de",
   "metadata": {},
   "outputs": [],
   "source": []
  },
  {
   "cell_type": "code",
   "execution_count": null,
   "id": "d7ef6317",
   "metadata": {},
   "outputs": [],
   "source": []
  },
  {
   "cell_type": "code",
   "execution_count": null,
   "id": "b3f75880",
   "metadata": {},
   "outputs": [],
   "source": []
  },
  {
   "cell_type": "code",
   "execution_count": null,
   "id": "f8734928",
   "metadata": {},
   "outputs": [],
   "source": []
  },
  {
   "cell_type": "code",
   "execution_count": null,
   "id": "61e2018c",
   "metadata": {},
   "outputs": [],
   "source": []
  }
 ],
 "metadata": {
  "kernelspec": {
   "display_name": "Python 3 (ipykernel)",
   "language": "python",
   "name": "python3"
  },
  "language_info": {
   "codemirror_mode": {
    "name": "ipython",
    "version": 3
   },
   "file_extension": ".py",
   "mimetype": "text/x-python",
   "name": "python",
   "nbconvert_exporter": "python",
   "pygments_lexer": "ipython3",
   "version": "3.10.4"
  },
  "vscode": {
   "interpreter": {
    "hash": "916dbcbb3f70747c44a77c7bcd40155683ae19c65e1c03b4aa3499c5328201f1"
   }
  }
 },
 "nbformat": 4,
 "nbformat_minor": 5
}
